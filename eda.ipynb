{
 "cells": [
  {
   "cell_type": "markdown",
   "id": "81a36c80",
   "metadata": {},
   "source": [
    "## EDA"
   ]
  },
  {
   "cell_type": "code",
   "execution_count": 1,
   "id": "cea128be",
   "metadata": {},
   "outputs": [
    {
     "name": "stderr",
     "output_type": "stream",
     "text": [
      "[nltk_data] Downloading package stopwords to\n",
      "[nltk_data]     C:\\Users\\Zainab\\AppData\\Roaming\\nltk_data...\n",
      "[nltk_data]   Package stopwords is already up-to-date!\n",
      "[nltk_data] Downloading package punkt to\n",
      "[nltk_data]     C:\\Users\\Zainab\\AppData\\Roaming\\nltk_data...\n",
      "[nltk_data]   Package punkt is already up-to-date!\n",
      "[nltk_data] Downloading package wordnet to\n",
      "[nltk_data]     C:\\Users\\Zainab\\AppData\\Roaming\\nltk_data...\n",
      "[nltk_data]   Package wordnet is already up-to-date!\n",
      "[nltk_data] Downloading package punkt_tab to\n",
      "[nltk_data]     C:\\Users\\Zainab\\AppData\\Roaming\\nltk_data...\n",
      "[nltk_data]   Package punkt_tab is already up-to-date!\n"
     ]
    },
    {
     "data": {
      "text/plain": [
       "True"
      ]
     },
     "execution_count": 1,
     "metadata": {},
     "output_type": "execute_result"
    }
   ],
   "source": [
    "import pandas as pd\n",
    "import numpy as np\n",
    "import matplotlib.pyplot as plt\n",
    "import seaborn as sns\n",
    "import nltk\n",
    "from nltk.corpus import stopwords\n",
    "from nltk.stem import WordNetLemmatizer\n",
    "from sklearn.feature_extraction.text import TfidfVectorizer\n",
    "from nltk.tokenize import word_tokenize\n",
    "nltk.download('stopwords')\n",
    "nltk.download('punkt')\n",
    "nltk.download('wordnet')\n",
    "nltk.download('punkt_tab')"
   ]
  },
  {
   "cell_type": "code",
   "execution_count": 120,
   "id": "c5bd93f8",
   "metadata": {},
   "outputs": [
    {
     "data": {
      "text/plain": [
       "Category\n",
       "Java Developer               84\n",
       "Testing                      70\n",
       "DevOps Engineer              55\n",
       "Python Developer             48\n",
       "Web Designing                45\n",
       "HR                           44\n",
       "Hadoop                       42\n",
       "Sales                        40\n",
       "Data Science                 40\n",
       "Mechanical Engineer          40\n",
       "ETL Developer                40\n",
       "Blockchain                   40\n",
       "Operations Manager           40\n",
       "Arts                         36\n",
       "Database                     33\n",
       "Health and fitness           30\n",
       "PMO                          30\n",
       "Electrical Engineering       30\n",
       "Business Analyst             28\n",
       "DotNet Developer             28\n",
       "Automation Testing           26\n",
       "Network Security Engineer    25\n",
       "Civil Engineer               24\n",
       "SAP Developer                24\n",
       "Advocate                     20\n",
       "Name: count, dtype: int64"
      ]
     },
     "execution_count": 120,
     "metadata": {},
     "output_type": "execute_result"
    }
   ],
   "source": [
    "df = pd.read_csv('datasets/UpdatedResumeDataset.csv')\n",
    "df['Category'].value_counts()"
   ]
  },
  {
   "cell_type": "code",
   "execution_count": 121,
   "id": "21d60959",
   "metadata": {},
   "outputs": [
    {
     "data": {
      "text/plain": [
       "(525, 2)"
      ]
     },
     "execution_count": 121,
     "metadata": {},
     "output_type": "execute_result"
    }
   ],
   "source": [
    "synth_df = pd.read_csv('datasets/synthetic_resume_dataset.csv')\n",
    "synth_df.shape"
   ]
  },
  {
   "cell_type": "code",
   "execution_count": 122,
   "id": "30be74d8",
   "metadata": {},
   "outputs": [
    {
     "data": {
      "text/html": [
       "<div>\n",
       "<style scoped>\n",
       "    .dataframe tbody tr th:only-of-type {\n",
       "        vertical-align: middle;\n",
       "    }\n",
       "\n",
       "    .dataframe tbody tr th {\n",
       "        vertical-align: top;\n",
       "    }\n",
       "\n",
       "    .dataframe thead th {\n",
       "        text-align: right;\n",
       "    }\n",
       "</style>\n",
       "<table border=\"1\" class=\"dataframe\">\n",
       "  <thead>\n",
       "    <tr style=\"text-align: right;\">\n",
       "      <th></th>\n",
       "      <th>Resume</th>\n",
       "      <th>Category</th>\n",
       "    </tr>\n",
       "  </thead>\n",
       "  <tbody>\n",
       "    <tr>\n",
       "      <th>0</th>\n",
       "      <td>**Full-Stack Web Developer** Proficient in mod...</td>\n",
       "      <td>Web Developer</td>\n",
       "    </tr>\n",
       "    <tr>\n",
       "      <th>1</th>\n",
       "      <td>**Front-End Developer** Specialized in creatin...</td>\n",
       "      <td>Web Developer</td>\n",
       "    </tr>\n",
       "    <tr>\n",
       "      <th>2</th>\n",
       "      <td>**Back-End Engineer** Skilled in building robu...</td>\n",
       "      <td>Web Developer</td>\n",
       "    </tr>\n",
       "    <tr>\n",
       "      <th>3</th>\n",
       "      <td>**Junior Web Developer** Eager to apply founda...</td>\n",
       "      <td>Web Developer</td>\n",
       "    </tr>\n",
       "    <tr>\n",
       "      <th>4</th>\n",
       "      <td>**Senior Web Applications Developer** Led deve...</td>\n",
       "      <td>Web Developer</td>\n",
       "    </tr>\n",
       "    <tr>\n",
       "      <th>5</th>\n",
       "      <td>**React Developer** Focused on component-based...</td>\n",
       "      <td>Web Developer</td>\n",
       "    </tr>\n",
       "    <tr>\n",
       "      <th>6</th>\n",
       "      <td>**Node.js Developer** Adept at building fast a...</td>\n",
       "      <td>Web Developer</td>\n",
       "    </tr>\n",
       "    <tr>\n",
       "      <th>7</th>\n",
       "      <td>**UI/UX Developer** Bridge between design and ...</td>\n",
       "      <td>Web Developer</td>\n",
       "    </tr>\n",
       "    <tr>\n",
       "      <th>8</th>\n",
       "      <td>**PHP Laravel Developer** Developed and mainta...</td>\n",
       "      <td>Web Developer</td>\n",
       "    </tr>\n",
       "    <tr>\n",
       "      <th>9</th>\n",
       "      <td>**Full-Stack JavaScript Developer** Experience...</td>\n",
       "      <td>Web Developer</td>\n",
       "    </tr>\n",
       "    <tr>\n",
       "      <th>10</th>\n",
       "      <td>**Angular Developer** Expert in enterprise-lev...</td>\n",
       "      <td>Web Developer</td>\n",
       "    </tr>\n",
       "    <tr>\n",
       "      <th>11</th>\n",
       "      <td>**Python Web Developer** Built scalable web se...</td>\n",
       "      <td>Web Developer</td>\n",
       "    </tr>\n",
       "    <tr>\n",
       "      <th>12</th>\n",
       "      <td>**WordPress Developer** Skilled in custom them...</td>\n",
       "      <td>Web Developer</td>\n",
       "    </tr>\n",
       "    <tr>\n",
       "      <th>13</th>\n",
       "      <td>**Web Development Intern** Gained hands-on exp...</td>\n",
       "      <td>Web Developer</td>\n",
       "    </tr>\n",
       "    <tr>\n",
       "      <th>14</th>\n",
       "      <td>**Lead Front-End Developer** Mentored a team o...</td>\n",
       "      <td>Web Developer</td>\n",
       "    </tr>\n",
       "    <tr>\n",
       "      <th>15</th>\n",
       "      <td>**Ruby on Rails Developer** Designed and imple...</td>\n",
       "      <td>Web Developer</td>\n",
       "    </tr>\n",
       "    <tr>\n",
       "      <th>16</th>\n",
       "      <td>**Full-Stack Developer (Remote)** Proven abili...</td>\n",
       "      <td>Web Developer</td>\n",
       "    </tr>\n",
       "    <tr>\n",
       "      <th>17</th>\n",
       "      <td>**JavaScript Developer** Core expertise in van...</td>\n",
       "      <td>Web Developer</td>\n",
       "    </tr>\n",
       "    <tr>\n",
       "      <th>18</th>\n",
       "      <td>**ASP.NET Core Developer** Developed robust an...</td>\n",
       "      <td>Web Developer</td>\n",
       "    </tr>\n",
       "    <tr>\n",
       "      <th>19</th>\n",
       "      <td>**Vue.js Developer** Specialized in building p...</td>\n",
       "      <td>Web Developer</td>\n",
       "    </tr>\n",
       "    <tr>\n",
       "      <th>20</th>\n",
       "      <td>**Cloud Web Developer (AWS)** Designed and dep...</td>\n",
       "      <td>Web Developer</td>\n",
       "    </tr>\n",
       "    <tr>\n",
       "      <th>21</th>\n",
       "      <td>**Web Services Developer** Expert in creating ...</td>\n",
       "      <td>Web Developer</td>\n",
       "    </tr>\n",
       "    <tr>\n",
       "      <th>22</th>\n",
       "      <td>**React Native Web Developer** Adapted mobile ...</td>\n",
       "      <td>Web Developer</td>\n",
       "    </tr>\n",
       "    <tr>\n",
       "      <th>23</th>\n",
       "      <td>**Shopify Developer** Created custom Shopify t...</td>\n",
       "      <td>Web Developer</td>\n",
       "    </tr>\n",
       "    <tr>\n",
       "      <th>24</th>\n",
       "      <td>**Game Web Developer** Developed interactive w...</td>\n",
       "      <td>Web Developer</td>\n",
       "    </tr>\n",
       "    <tr>\n",
       "      <th>25</th>\n",
       "      <td>**Senior Front-End Architect** Defined technic...</td>\n",
       "      <td>Web Developer</td>\n",
       "    </tr>\n",
       "    <tr>\n",
       "      <th>26</th>\n",
       "      <td>**WordPress Plugin Developer** Specialized in ...</td>\n",
       "      <td>Web Developer</td>\n",
       "    </tr>\n",
       "    <tr>\n",
       "      <th>27</th>\n",
       "      <td>**Full-Stack .NET Developer** Developed enterp...</td>\n",
       "      <td>Web Developer</td>\n",
       "    </tr>\n",
       "    <tr>\n",
       "      <th>28</th>\n",
       "      <td>**Junior Front-End Developer** Quick learner w...</td>\n",
       "      <td>Web Developer</td>\n",
       "    </tr>\n",
       "    <tr>\n",
       "      <th>29</th>\n",
       "      <td>**Web Performance Engineer** Focused on optimi...</td>\n",
       "      <td>Web Developer</td>\n",
       "    </tr>\n",
       "  </tbody>\n",
       "</table>\n",
       "</div>"
      ],
      "text/plain": [
       "                                               Resume       Category\n",
       "0   **Full-Stack Web Developer** Proficient in mod...  Web Developer\n",
       "1   **Front-End Developer** Specialized in creatin...  Web Developer\n",
       "2   **Back-End Engineer** Skilled in building robu...  Web Developer\n",
       "3   **Junior Web Developer** Eager to apply founda...  Web Developer\n",
       "4   **Senior Web Applications Developer** Led deve...  Web Developer\n",
       "5   **React Developer** Focused on component-based...  Web Developer\n",
       "6   **Node.js Developer** Adept at building fast a...  Web Developer\n",
       "7   **UI/UX Developer** Bridge between design and ...  Web Developer\n",
       "8   **PHP Laravel Developer** Developed and mainta...  Web Developer\n",
       "9   **Full-Stack JavaScript Developer** Experience...  Web Developer\n",
       "10  **Angular Developer** Expert in enterprise-lev...  Web Developer\n",
       "11  **Python Web Developer** Built scalable web se...  Web Developer\n",
       "12  **WordPress Developer** Skilled in custom them...  Web Developer\n",
       "13  **Web Development Intern** Gained hands-on exp...  Web Developer\n",
       "14  **Lead Front-End Developer** Mentored a team o...  Web Developer\n",
       "15  **Ruby on Rails Developer** Designed and imple...  Web Developer\n",
       "16  **Full-Stack Developer (Remote)** Proven abili...  Web Developer\n",
       "17  **JavaScript Developer** Core expertise in van...  Web Developer\n",
       "18  **ASP.NET Core Developer** Developed robust an...  Web Developer\n",
       "19  **Vue.js Developer** Specialized in building p...  Web Developer\n",
       "20  **Cloud Web Developer (AWS)** Designed and dep...  Web Developer\n",
       "21  **Web Services Developer** Expert in creating ...  Web Developer\n",
       "22  **React Native Web Developer** Adapted mobile ...  Web Developer\n",
       "23  **Shopify Developer** Created custom Shopify t...  Web Developer\n",
       "24  **Game Web Developer** Developed interactive w...  Web Developer\n",
       "25  **Senior Front-End Architect** Defined technic...  Web Developer\n",
       "26  **WordPress Plugin Developer** Specialized in ...  Web Developer\n",
       "27  **Full-Stack .NET Developer** Developed enterp...  Web Developer\n",
       "28  **Junior Front-End Developer** Quick learner w...  Web Developer\n",
       "29  **Web Performance Engineer** Focused on optimi...  Web Developer"
      ]
     },
     "execution_count": 122,
     "metadata": {},
     "output_type": "execute_result"
    }
   ],
   "source": [
    "synth_df2 = pd.read_csv('datasets/synthetic_resume_dataset2.csv')\n",
    "synth_df2"
   ]
  },
  {
   "cell_type": "code",
   "execution_count": 124,
   "id": "c96561a8",
   "metadata": {},
   "outputs": [
    {
     "data": {
      "text/plain": [
       "(1517, 2)"
      ]
     },
     "execution_count": 124,
     "metadata": {},
     "output_type": "execute_result"
    }
   ],
   "source": [
    "combined_df = pd.concat([df, synth_df, synth_df2], ignore_index=True)\n",
    "combined_df.shape"
   ]
  },
  {
   "cell_type": "code",
   "execution_count": 125,
   "metadata": {},
   "outputs": [
    {
     "data": {
      "text/plain": [
       "Category    0\n",
       "Resume      0\n",
       "dtype: int64"
      ]
     },
     "execution_count": 125,
     "metadata": {},
     "output_type": "execute_result"
    }
   ],
   "source": [
    "combined_df.isna().sum()"
   ]
  },
  {
   "cell_type": "code",
   "execution_count": 126,
   "id": "8d5b08fa",
   "metadata": {},
   "outputs": [
    {
     "data": {
      "text/plain": [
       "Category\n",
       "Java Developer               105\n",
       "Testing                       91\n",
       "DevOps Engineer               76\n",
       "Python Developer              69\n",
       "Web Designing                 66\n",
       "HR                            65\n",
       "Hadoop                        63\n",
       "Data Science                  61\n",
       "Sales                         61\n",
       "Mechanical Engineer           61\n",
       "ETL Developer                 61\n",
       "Blockchain                    61\n",
       "Operations Manager            61\n",
       "Arts                          57\n",
       "Database                      54\n",
       "Electrical Engineering        51\n",
       "Health and fitness            51\n",
       "PMO                           51\n",
       "DotNet Developer              49\n",
       "Business Analyst              49\n",
       "Automation Testing            47\n",
       "Network Security Engineer     46\n",
       "SAP Developer                 45\n",
       "Civil Engineer                45\n",
       "Advocate                      41\n",
       "Web Developer                 30\n",
       "Name: count, dtype: int64"
      ]
     },
     "execution_count": 126,
     "metadata": {},
     "output_type": "execute_result"
    }
   ],
   "source": [
    "combined_df['Category'].value_counts()"
   ]
  },
  {
   "cell_type": "code",
   "execution_count": 127,
   "id": "c976a06f",
   "metadata": {},
   "outputs": [
    {
     "data": {
      "text/plain": [
       "np.int64(796)"
      ]
     },
     "execution_count": 127,
     "metadata": {},
     "output_type": "execute_result"
    }
   ],
   "source": [
    "#duplicate resume\n",
    "combined_df['Resume'].duplicated().sum()"
   ]
  },
  {
   "cell_type": "code",
   "execution_count": 128,
   "metadata": {},
   "outputs": [],
   "source": [
    "#drop duplicate resume\n",
    "combined_df.drop_duplicates(subset=['Resume'], keep='first', inplace=True)"
   ]
  },
  {
   "cell_type": "code",
   "execution_count": 129,
   "id": "53907993",
   "metadata": {},
   "outputs": [
    {
     "data": {
      "text/plain": [
       "np.int64(0)"
      ]
     },
     "execution_count": 129,
     "metadata": {},
     "output_type": "execute_result"
    }
   ],
   "source": [
    "combined_df['Resume'].duplicated().sum()"
   ]
  },
  {
   "cell_type": "code",
   "execution_count": 130,
   "id": "13efad74",
   "metadata": {},
   "outputs": [
    {
     "data": {
      "text/plain": [
       "Category\n",
       "Java Developer               34\n",
       "Database                     32\n",
       "HR                           31\n",
       "Advocate                     31\n",
       "Data Science                 31\n",
       "Web Developer                30\n",
       "DevOps Engineer              28\n",
       "Automation Testing           28\n",
       "DotNet Developer             28\n",
       "Hadoop                       28\n",
       "Testing                      28\n",
       "Python Developer             27\n",
       "Business Analyst             27\n",
       "Civil Engineer               27\n",
       "Arts                         27\n",
       "Health and fitness           27\n",
       "SAP Developer                27\n",
       "Mechanical Engineer          26\n",
       "Blockchain                   26\n",
       "Sales                        26\n",
       "Electrical Engineering       26\n",
       "Network Security Engineer    26\n",
       "ETL Developer                26\n",
       "Web Designing                25\n",
       "Operations Manager           25\n",
       "PMO                          24\n",
       "Name: count, dtype: int64"
      ]
     },
     "execution_count": 130,
     "metadata": {},
     "output_type": "execute_result"
    }
   ],
   "source": [
    "combined_df['Category'].value_counts()"
   ]
  },
  {
   "cell_type": "code",
   "execution_count": 131,
   "id": "a44cf4e8",
   "metadata": {},
   "outputs": [
    {
     "data": {
      "text/html": [
       "<div>\n",
       "<style scoped>\n",
       "    .dataframe tbody tr th:only-of-type {\n",
       "        vertical-align: middle;\n",
       "    }\n",
       "\n",
       "    .dataframe tbody tr th {\n",
       "        vertical-align: top;\n",
       "    }\n",
       "\n",
       "    .dataframe thead th {\n",
       "        text-align: right;\n",
       "    }\n",
       "</style>\n",
       "<table border=\"1\" class=\"dataframe\">\n",
       "  <thead>\n",
       "    <tr style=\"text-align: right;\">\n",
       "      <th></th>\n",
       "      <th>Category</th>\n",
       "      <th>Resume</th>\n",
       "    </tr>\n",
       "  </thead>\n",
       "  <tbody>\n",
       "    <tr>\n",
       "      <th>962</th>\n",
       "      <td>Java Developer</td>\n",
       "      <td>Here are 20 synthetic resume texts for the job...</td>\n",
       "    </tr>\n",
       "    <tr>\n",
       "      <th>983</th>\n",
       "      <td>Database</td>\n",
       "      <td>Here are 20 synthetic resume texts for the 'Da...</td>\n",
       "    </tr>\n",
       "    <tr>\n",
       "      <th>1004</th>\n",
       "      <td>Advocate</td>\n",
       "      <td>Here are 20 synthetic resume texts for the job...</td>\n",
       "    </tr>\n",
       "    <tr>\n",
       "      <th>1025</th>\n",
       "      <td>HR</td>\n",
       "      <td>Here are 20 synthetic resume texts for the job...</td>\n",
       "    </tr>\n",
       "    <tr>\n",
       "      <th>1046</th>\n",
       "      <td>Data Science</td>\n",
       "      <td>Here are 20 synthetic resume texts for the job...</td>\n",
       "    </tr>\n",
       "    <tr>\n",
       "      <th>1067</th>\n",
       "      <td>Automation Testing</td>\n",
       "      <td>Here are 20 synthetic resume texts for the 'Au...</td>\n",
       "    </tr>\n",
       "    <tr>\n",
       "      <th>1088</th>\n",
       "      <td>DevOps Engineer</td>\n",
       "      <td>Here are 20 synthetic resume texts for the job...</td>\n",
       "    </tr>\n",
       "    <tr>\n",
       "      <th>1109</th>\n",
       "      <td>Testing</td>\n",
       "      <td>Here are 20 synthetic resume texts for the 'Te...</td>\n",
       "    </tr>\n",
       "    <tr>\n",
       "      <th>1130</th>\n",
       "      <td>DotNet Developer</td>\n",
       "      <td>Here are 20 synthetic resume texts for DotNet ...</td>\n",
       "    </tr>\n",
       "    <tr>\n",
       "      <th>1151</th>\n",
       "      <td>Hadoop</td>\n",
       "      <td>Here are 20 synthetic resume texts for the job...</td>\n",
       "    </tr>\n",
       "    <tr>\n",
       "      <th>1172</th>\n",
       "      <td>SAP Developer</td>\n",
       "      <td>Here are 20 synthetic resume texts for the 'SA...</td>\n",
       "    </tr>\n",
       "    <tr>\n",
       "      <th>1193</th>\n",
       "      <td>Python Developer</td>\n",
       "      <td>Here are 20 synthetic resume texts for the job...</td>\n",
       "    </tr>\n",
       "    <tr>\n",
       "      <th>1214</th>\n",
       "      <td>Health and fitness</td>\n",
       "      <td>Here are 20 synthetic resume texts for the 'He...</td>\n",
       "    </tr>\n",
       "    <tr>\n",
       "      <th>1235</th>\n",
       "      <td>Civil Engineer</td>\n",
       "      <td>Here are 20 synthetic resume texts for the 'Ci...</td>\n",
       "    </tr>\n",
       "    <tr>\n",
       "      <th>1256</th>\n",
       "      <td>Arts</td>\n",
       "      <td>Here are 20 synthetic resume texts for the job...</td>\n",
       "    </tr>\n",
       "    <tr>\n",
       "      <th>1277</th>\n",
       "      <td>Business Analyst</td>\n",
       "      <td>Here are 20 synthetic resume texts for the job...</td>\n",
       "    </tr>\n",
       "    <tr>\n",
       "      <th>1298</th>\n",
       "      <td>Sales</td>\n",
       "      <td>Here are 20 synthetic resume texts for the job...</td>\n",
       "    </tr>\n",
       "    <tr>\n",
       "      <th>1319</th>\n",
       "      <td>Blockchain</td>\n",
       "      <td>Here are 20 synthetic resume texts for the 'Bl...</td>\n",
       "    </tr>\n",
       "    <tr>\n",
       "      <th>1340</th>\n",
       "      <td>Mechanical Engineer</td>\n",
       "      <td>Here are 20 synthetic resume texts for 'Mechan...</td>\n",
       "    </tr>\n",
       "    <tr>\n",
       "      <th>1361</th>\n",
       "      <td>ETL Developer</td>\n",
       "      <td>Here are 20 synthetic resume texts for the job...</td>\n",
       "    </tr>\n",
       "    <tr>\n",
       "      <th>1382</th>\n",
       "      <td>Electrical Engineering</td>\n",
       "      <td>Here are 20 synthetic resume texts for the job...</td>\n",
       "    </tr>\n",
       "    <tr>\n",
       "      <th>1403</th>\n",
       "      <td>Network Security Engineer</td>\n",
       "      <td>Here are 20 synthetic resume texts for the job...</td>\n",
       "    </tr>\n",
       "    <tr>\n",
       "      <th>1424</th>\n",
       "      <td>Web Designing</td>\n",
       "      <td>Here are 20 synthetic resume texts for the job...</td>\n",
       "    </tr>\n",
       "    <tr>\n",
       "      <th>1445</th>\n",
       "      <td>Operations Manager</td>\n",
       "      <td>Here are 20 synthetic resume texts for the job...</td>\n",
       "    </tr>\n",
       "    <tr>\n",
       "      <th>1466</th>\n",
       "      <td>PMO</td>\n",
       "      <td>Here are 20 synthetic resume texts for the job...</td>\n",
       "    </tr>\n",
       "  </tbody>\n",
       "</table>\n",
       "</div>"
      ],
      "text/plain": [
       "                       Category  \\\n",
       "962              Java Developer   \n",
       "983                    Database   \n",
       "1004                   Advocate   \n",
       "1025                         HR   \n",
       "1046               Data Science   \n",
       "1067         Automation Testing   \n",
       "1088            DevOps Engineer   \n",
       "1109                    Testing   \n",
       "1130           DotNet Developer   \n",
       "1151                     Hadoop   \n",
       "1172              SAP Developer   \n",
       "1193           Python Developer   \n",
       "1214         Health and fitness   \n",
       "1235             Civil Engineer   \n",
       "1256                       Arts   \n",
       "1277           Business Analyst   \n",
       "1298                      Sales   \n",
       "1319                 Blockchain   \n",
       "1340        Mechanical Engineer   \n",
       "1361              ETL Developer   \n",
       "1382     Electrical Engineering   \n",
       "1403  Network Security Engineer   \n",
       "1424              Web Designing   \n",
       "1445         Operations Manager   \n",
       "1466                        PMO   \n",
       "\n",
       "                                                 Resume  \n",
       "962   Here are 20 synthetic resume texts for the job...  \n",
       "983   Here are 20 synthetic resume texts for the 'Da...  \n",
       "1004  Here are 20 synthetic resume texts for the job...  \n",
       "1025  Here are 20 synthetic resume texts for the job...  \n",
       "1046  Here are 20 synthetic resume texts for the job...  \n",
       "1067  Here are 20 synthetic resume texts for the 'Au...  \n",
       "1088  Here are 20 synthetic resume texts for the job...  \n",
       "1109  Here are 20 synthetic resume texts for the 'Te...  \n",
       "1130  Here are 20 synthetic resume texts for DotNet ...  \n",
       "1151  Here are 20 synthetic resume texts for the job...  \n",
       "1172  Here are 20 synthetic resume texts for the 'SA...  \n",
       "1193  Here are 20 synthetic resume texts for the job...  \n",
       "1214  Here are 20 synthetic resume texts for the 'He...  \n",
       "1235  Here are 20 synthetic resume texts for the 'Ci...  \n",
       "1256  Here are 20 synthetic resume texts for the job...  \n",
       "1277  Here are 20 synthetic resume texts for the job...  \n",
       "1298  Here are 20 synthetic resume texts for the job...  \n",
       "1319  Here are 20 synthetic resume texts for the 'Bl...  \n",
       "1340  Here are 20 synthetic resume texts for 'Mechan...  \n",
       "1361  Here are 20 synthetic resume texts for the job...  \n",
       "1382  Here are 20 synthetic resume texts for the job...  \n",
       "1403  Here are 20 synthetic resume texts for the job...  \n",
       "1424  Here are 20 synthetic resume texts for the job...  \n",
       "1445  Here are 20 synthetic resume texts for the job...  \n",
       "1466  Here are 20 synthetic resume texts for the job...  "
      ]
     },
     "metadata": {},
     "output_type": "display_data"
    },
    {
     "name": "stdout",
     "output_type": "stream",
     "text": [
      "None\n"
     ]
    }
   ],
   "source": [
    "# Show rows where Resume starts with the specified string\n",
    "mask = combined_df['Resume'].str.startswith(\"Here are 20 synthetic resume texts\", na=False)\n",
    "print(display(combined_df[mask]))\n"
   ]
  },
  {
   "cell_type": "code",
   "execution_count": 132,
   "id": "f4bd924c",
   "metadata": {},
   "outputs": [],
   "source": [
    "#drop these rows\n",
    "combined_df.drop(combined_df[combined_df['Resume'].str.startswith(\"Here are 20 synthetic resume texts\", na=False)].index, inplace=True)"
   ]
  },
  {
   "cell_type": "code",
   "execution_count": 133,
   "id": "314e2d63",
   "metadata": {},
   "outputs": [],
   "source": [
    "cleaned_df = combined_df.to_csv(\"datasets/cleaned_resume.csv\", index=False)"
   ]
  },
  {
   "cell_type": "markdown",
   "id": "166478ca",
   "metadata": {},
   "source": [
    "## FE"
   ]
  },
  {
   "cell_type": "code",
   "execution_count": 134,
   "metadata": {},
   "outputs": [
    {
     "data": {
      "text/html": [
       "<div>\n",
       "<style scoped>\n",
       "    .dataframe tbody tr th:only-of-type {\n",
       "        vertical-align: middle;\n",
       "    }\n",
       "\n",
       "    .dataframe tbody tr th {\n",
       "        vertical-align: top;\n",
       "    }\n",
       "\n",
       "    .dataframe thead th {\n",
       "        text-align: right;\n",
       "    }\n",
       "</style>\n",
       "<table border=\"1\" class=\"dataframe\">\n",
       "  <thead>\n",
       "    <tr style=\"text-align: right;\">\n",
       "      <th></th>\n",
       "      <th>Category</th>\n",
       "      <th>Resume</th>\n",
       "    </tr>\n",
       "  </thead>\n",
       "  <tbody>\n",
       "    <tr>\n",
       "      <th>0</th>\n",
       "      <td>Data Science</td>\n",
       "      <td>Skills * Programming Languages: Python (pandas...</td>\n",
       "    </tr>\n",
       "    <tr>\n",
       "      <th>1</th>\n",
       "      <td>Data Science</td>\n",
       "      <td>Education Details \\r\\nMay 2013 to May 2017 B.E...</td>\n",
       "    </tr>\n",
       "    <tr>\n",
       "      <th>2</th>\n",
       "      <td>Data Science</td>\n",
       "      <td>Areas of Interest Deep Learning, Control Syste...</td>\n",
       "    </tr>\n",
       "    <tr>\n",
       "      <th>3</th>\n",
       "      <td>Data Science</td>\n",
       "      <td>Skills â¢ R â¢ Python â¢ SAP HANA â¢ Table...</td>\n",
       "    </tr>\n",
       "    <tr>\n",
       "      <th>4</th>\n",
       "      <td>Data Science</td>\n",
       "      <td>Education Details \\r\\n MCA   YMCAUST,  Faridab...</td>\n",
       "    </tr>\n",
       "  </tbody>\n",
       "</table>\n",
       "</div>"
      ],
      "text/plain": [
       "       Category                                             Resume\n",
       "0  Data Science  Skills * Programming Languages: Python (pandas...\n",
       "1  Data Science  Education Details \\r\\nMay 2013 to May 2017 B.E...\n",
       "2  Data Science  Areas of Interest Deep Learning, Control Syste...\n",
       "3  Data Science  Skills â¢ R â¢ Python â¢ SAP HANA â¢ Table...\n",
       "4  Data Science  Education Details \\r\\n MCA   YMCAUST,  Faridab..."
      ]
     },
     "execution_count": 134,
     "metadata": {},
     "output_type": "execute_result"
    }
   ],
   "source": [
    "cleaned_df = pd.read_csv('datasets/cleaned_resume.csv')\n",
    "cleaned_df.head()"
   ]
  },
  {
   "cell_type": "code",
   "execution_count": 175,
   "metadata": {},
   "outputs": [
    {
     "data": {
      "text/plain": [
       "['models/le.pkl']"
      ]
     },
     "execution_count": 175,
     "metadata": {},
     "output_type": "execute_result"
    }
   ],
   "source": [
    "from sklearn.preprocessing import  LabelEncoder\n",
    "le = LabelEncoder()\n",
    "cleaned_df['Category_Encoded'] = le.fit_transform(cleaned_df['Category'])\n",
    "\n",
    "joblib.dump(le, 'models/le.pkl')"
   ]
  },
  {
   "cell_type": "code",
   "execution_count": 136,
   "id": "97f7fcfc",
   "metadata": {},
   "outputs": [
    {
     "name": "stdout",
     "output_type": "stream",
     "text": [
      "0: Advocate\n",
      "1: Arts\n",
      "2: Automation Testing\n",
      "3: Blockchain\n",
      "4: Business Analyst\n",
      "5: Civil Engineer\n",
      "6: Data Science\n",
      "7: Database\n",
      "8: DevOps Engineer\n",
      "9: DotNet Developer\n",
      "10: ETL Developer\n",
      "11: Electrical Engineering\n",
      "12: HR\n",
      "13: Hadoop\n",
      "14: Health and fitness\n",
      "15: Java Developer\n",
      "16: Mechanical Engineer\n",
      "17: Network Security Engineer\n",
      "18: Operations Manager\n",
      "19: PMO\n",
      "20: Python Developer\n",
      "21: SAP Developer\n",
      "22: Sales\n",
      "23: Testing\n",
      "24: Web Designing\n",
      "25: Web Developer\n"
     ]
    }
   ],
   "source": [
    "for i, label in enumerate(le.classes_):\n",
    "    print(f\"{i}: {label}\")"
   ]
  },
  {
   "cell_type": "code",
   "execution_count": 138,
   "metadata": {},
   "outputs": [],
   "source": [
    "import re\n",
    "def preprocess_text(text):\n",
    "    # Convert to lowercase\n",
    "    text = text.lower()\n",
    "    text = re.sub('http\\\\S+\\\\s*', ' ', text)\n",
    "    text = re.sub('RT|cc', ' ', text)\n",
    "    text = re.sub('#\\\\S+', '', text)\n",
    "    text = re.sub('@\\\\S+', ' ', text)\n",
    "    text = re.sub('[^a-zA-Z0-9]+', ' ', text)\n",
    "    text = re.sub(' +', ' ', text)\n",
    "    \n",
    "    # Tokenize the text\n",
    "    tokens = word_tokenize(text)\n",
    "    \n",
    "    # Remove stopwords\n",
    "    stop_words = set(stopwords.words('english'))\n",
    "    tokens = [word for word in tokens if word not in stop_words]\n",
    "    \n",
    "    # Lemmatize the tokens\n",
    "    lemmatizer = WordNetLemmatizer()\n",
    "    tokens = [lemmatizer.lemmatize(word) for word in tokens]\n",
    "    return ' '.join(tokens)"
   ]
  },
  {
   "cell_type": "code",
   "execution_count": 139,
   "id": "9ab208d7",
   "metadata": {},
   "outputs": [
    {
     "data": {
      "text/html": [
       "<div>\n",
       "<style scoped>\n",
       "    .dataframe tbody tr th:only-of-type {\n",
       "        vertical-align: middle;\n",
       "    }\n",
       "\n",
       "    .dataframe tbody tr th {\n",
       "        vertical-align: top;\n",
       "    }\n",
       "\n",
       "    .dataframe thead th {\n",
       "        text-align: right;\n",
       "    }\n",
       "</style>\n",
       "<table border=\"1\" class=\"dataframe\">\n",
       "  <thead>\n",
       "    <tr style=\"text-align: right;\">\n",
       "      <th></th>\n",
       "      <th>Category</th>\n",
       "      <th>Resume</th>\n",
       "      <th>Category_Encoded</th>\n",
       "      <th>Cleaned_Resume</th>\n",
       "    </tr>\n",
       "  </thead>\n",
       "  <tbody>\n",
       "    <tr>\n",
       "      <th>0</th>\n",
       "      <td>Data Science</td>\n",
       "      <td>Skills * Programming Languages: Python (pandas...</td>\n",
       "      <td>6</td>\n",
       "      <td>skill programming language python panda numpy ...</td>\n",
       "    </tr>\n",
       "    <tr>\n",
       "      <th>1</th>\n",
       "      <td>Data Science</td>\n",
       "      <td>Education Details \\r\\nMay 2013 to May 2017 B.E...</td>\n",
       "      <td>6</td>\n",
       "      <td>education detail may 2013 may 2017 b e uit rgp...</td>\n",
       "    </tr>\n",
       "    <tr>\n",
       "      <th>2</th>\n",
       "      <td>Data Science</td>\n",
       "      <td>Areas of Interest Deep Learning, Control Syste...</td>\n",
       "      <td>6</td>\n",
       "      <td>area interest deep learning control system des...</td>\n",
       "    </tr>\n",
       "    <tr>\n",
       "      <th>3</th>\n",
       "      <td>Data Science</td>\n",
       "      <td>Skills â¢ R â¢ Python â¢ SAP HANA â¢ Table...</td>\n",
       "      <td>6</td>\n",
       "      <td>skill r python sap hana tableau sap hana sql s...</td>\n",
       "    </tr>\n",
       "    <tr>\n",
       "      <th>4</th>\n",
       "      <td>Data Science</td>\n",
       "      <td>Education Details \\r\\n MCA   YMCAUST,  Faridab...</td>\n",
       "      <td>6</td>\n",
       "      <td>education detail mca ymcaust faridabad haryana...</td>\n",
       "    </tr>\n",
       "  </tbody>\n",
       "</table>\n",
       "</div>"
      ],
      "text/plain": [
       "       Category                                             Resume  \\\n",
       "0  Data Science  Skills * Programming Languages: Python (pandas...   \n",
       "1  Data Science  Education Details \\r\\nMay 2013 to May 2017 B.E...   \n",
       "2  Data Science  Areas of Interest Deep Learning, Control Syste...   \n",
       "3  Data Science  Skills â¢ R â¢ Python â¢ SAP HANA â¢ Table...   \n",
       "4  Data Science  Education Details \\r\\n MCA   YMCAUST,  Faridab...   \n",
       "\n",
       "   Category_Encoded                                     Cleaned_Resume  \n",
       "0                 6  skill programming language python panda numpy ...  \n",
       "1                 6  education detail may 2013 may 2017 b e uit rgp...  \n",
       "2                 6  area interest deep learning control system des...  \n",
       "3                 6  skill r python sap hana tableau sap hana sql s...  \n",
       "4                 6  education detail mca ymcaust faridabad haryana...  "
      ]
     },
     "execution_count": 139,
     "metadata": {},
     "output_type": "execute_result"
    }
   ],
   "source": [
    "cleaned_df['Cleaned_Resume'] = cleaned_df['Resume'].apply(preprocess_text)\n",
    "\n",
    "cleaned_df.head()"
   ]
  },
  {
   "cell_type": "code",
   "execution_count": 174,
   "id": "74f4076e",
   "metadata": {},
   "outputs": [
    {
     "data": {
      "text/plain": [
       "['models/tf_idf.pkl']"
      ]
     },
     "execution_count": 174,
     "metadata": {},
     "output_type": "execute_result"
    }
   ],
   "source": [
    "from sklearn.feature_extraction.text import TfidfVectorizer\n",
    "\n",
    "tf_idf = TfidfVectorizer(\n",
    "    ngram_range=(1,3),\n",
    "    max_df=0.9,\n",
    "    min_df=2,\n",
    "    stop_words='english'\n",
    ")\n",
    "\n",
    "X = tf_idf.fit_transform(cleaned_df['Cleaned_Resume'])\n",
    "vocab = tf_idf.get_feature_names_out()\n",
    "\n",
    "import joblib\n",
    "joblib.dump(tf_idf, 'models/tf_idf.pkl')"
   ]
  },
  {
   "cell_type": "code",
   "execution_count": 161,
   "id": "5f462628",
   "metadata": {},
   "outputs": [],
   "source": [
    "from sklearn.model_selection import train_test_split\n",
    "\n",
    "y = cleaned_df['Category_Encoded']\n",
    "X_train, X_test, y_train, y_test = train_test_split(X, y, test_size=0.2, random_state=42)"
   ]
  },
  {
   "cell_type": "markdown",
   "id": "d136b766",
   "metadata": {},
   "source": [
    "## Model Training"
   ]
  },
  {
   "cell_type": "code",
   "execution_count": 142,
   "id": "e419c87e",
   "metadata": {},
   "outputs": [],
   "source": [
    "from sklearn.linear_model import LogisticRegression,RidgeClassifier\n",
    "from sklearn.naive_bayes import MultinomialNB\n",
    "from sklearn.svm import SVC\n",
    "from sklearn.tree import DecisionTreeClassifier\n",
    "from sklearn.ensemble import RandomForestClassifier\n",
    "from sklearn.ensemble import GradientBoostingClassifier\n",
    "from xgboost import XGBClassifier\n",
    "from catboost import CatBoostClassifier\n",
    "from sklearn.multiclass import OneVsRestClassifier\n",
    "from sklearn.neighbors import KNeighborsClassifier\n",
    "from sklearn.metrics import accuracy_score, recall_score,precision_score,f1_score"
   ]
  },
  {
   "cell_type": "code",
   "execution_count": 143,
   "id": "084fefce",
   "metadata": {},
   "outputs": [],
   "source": [
    "models = {\n",
    "    'Logistic Regression': LogisticRegression(),\n",
    "    'KNN': KNeighborsClassifier(),\n",
    "    'Decision Tree': DecisionTreeClassifier(),\n",
    "    'Random Forest': RandomForestClassifier(),\n",
    "    'XGBoost': XGBClassifier(),\n",
    "    # 'CatBoost': CatBoostClassifier(),\n",
    "    'SVM': SVC(),\n",
    "}"
   ]
  },
  {
   "cell_type": "code",
   "execution_count": 144,
   "metadata": {},
   "outputs": [
    {
     "name": "stderr",
     "output_type": "stream",
     "text": [
      "C:\\Users\\Zainab\\AppData\\Roaming\\Python\\Python313\\site-packages\\sklearn\\metrics\\_classification.py:1565: UndefinedMetricWarning: Precision is ill-defined and being set to 0.0 in labels with no predicted samples. Use `zero_division` parameter to control this behavior.\n",
      "  _warn_prf(average, modifier, f\"{metric.capitalize()} is\", len(result))\n"
     ]
    },
    {
     "data": {
      "text/html": [
       "<div>\n",
       "<style scoped>\n",
       "    .dataframe tbody tr th:only-of-type {\n",
       "        vertical-align: middle;\n",
       "    }\n",
       "\n",
       "    .dataframe tbody tr th {\n",
       "        vertical-align: top;\n",
       "    }\n",
       "\n",
       "    .dataframe thead th {\n",
       "        text-align: right;\n",
       "    }\n",
       "</style>\n",
       "<table border=\"1\" class=\"dataframe\">\n",
       "  <thead>\n",
       "    <tr style=\"text-align: right;\">\n",
       "      <th></th>\n",
       "      <th>Model</th>\n",
       "      <th>Accuracy</th>\n",
       "      <th>Recall</th>\n",
       "      <th>Precision</th>\n",
       "      <th>F1 Score</th>\n",
       "    </tr>\n",
       "  </thead>\n",
       "  <tbody>\n",
       "    <tr>\n",
       "      <th>3</th>\n",
       "      <td>Random Forest</td>\n",
       "      <td>0.885714</td>\n",
       "      <td>0.885714</td>\n",
       "      <td>0.917063</td>\n",
       "      <td>0.885798</td>\n",
       "    </tr>\n",
       "    <tr>\n",
       "      <th>4</th>\n",
       "      <td>XGBoost</td>\n",
       "      <td>0.864286</td>\n",
       "      <td>0.864286</td>\n",
       "      <td>0.905237</td>\n",
       "      <td>0.863843</td>\n",
       "    </tr>\n",
       "    <tr>\n",
       "      <th>0</th>\n",
       "      <td>Logistic Regression</td>\n",
       "      <td>0.835714</td>\n",
       "      <td>0.835714</td>\n",
       "      <td>0.895431</td>\n",
       "      <td>0.837072</td>\n",
       "    </tr>\n",
       "    <tr>\n",
       "      <th>5</th>\n",
       "      <td>SVM</td>\n",
       "      <td>0.800000</td>\n",
       "      <td>0.800000</td>\n",
       "      <td>0.885083</td>\n",
       "      <td>0.791444</td>\n",
       "    </tr>\n",
       "    <tr>\n",
       "      <th>2</th>\n",
       "      <td>Decision Tree</td>\n",
       "      <td>0.764286</td>\n",
       "      <td>0.764286</td>\n",
       "      <td>0.808240</td>\n",
       "      <td>0.766530</td>\n",
       "    </tr>\n",
       "    <tr>\n",
       "      <th>1</th>\n",
       "      <td>KNN</td>\n",
       "      <td>0.707143</td>\n",
       "      <td>0.707143</td>\n",
       "      <td>0.706893</td>\n",
       "      <td>0.682390</td>\n",
       "    </tr>\n",
       "  </tbody>\n",
       "</table>\n",
       "</div>"
      ],
      "text/plain": [
       "                 Model  Accuracy    Recall  Precision  F1 Score\n",
       "3        Random Forest  0.885714  0.885714   0.917063  0.885798\n",
       "4              XGBoost  0.864286  0.864286   0.905237  0.863843\n",
       "0  Logistic Regression  0.835714  0.835714   0.895431  0.837072\n",
       "5                  SVM  0.800000  0.800000   0.885083  0.791444\n",
       "2        Decision Tree  0.764286  0.764286   0.808240  0.766530\n",
       "1                  KNN  0.707143  0.707143   0.706893  0.682390"
      ]
     },
     "execution_count": 144,
     "metadata": {},
     "output_type": "execute_result"
    }
   ],
   "source": [
    "metrics_list = []\n",
    "for model_name, model in models.items():\n",
    "    model.fit(X_train, y_train)\n",
    "    y_pred = model.predict(X_test)\n",
    "    accuracy = accuracy_score(y_test, y_pred)\n",
    "    recall = recall_score(y_test, y_pred, average='weighted')\n",
    "    precision = precision_score(y_test, y_pred, average='weighted')\n",
    "    f1 = f1_score(y_test, y_pred, average='weighted')\n",
    "    metrics_list.append({\n",
    "        'Model': model_name,\n",
    "        'Accuracy': accuracy,\n",
    "        'Recall': recall,\n",
    "        'Precision': precision,\n",
    "        'F1 Score': f1\n",
    "    })\n",
    "\n",
    "metrics_df = pd.DataFrame(metrics_list)\n",
    "metrics_df.sort_values(by='Accuracy', ascending=False)"
   ]
  },
  {
   "cell_type": "code",
   "execution_count": 145,
   "id": "8be19e4d",
   "metadata": {},
   "outputs": [
    {
     "name": "stdout",
     "output_type": "stream",
     "text": [
      "0: Advocate\n",
      "1: Arts\n",
      "2: Automation Testing\n",
      "3: Blockchain\n",
      "4: Business Analyst\n",
      "5: Civil Engineer\n",
      "6: Data Science\n",
      "7: Database\n",
      "8: DevOps Engineer\n",
      "9: DotNet Developer\n",
      "10: ETL Developer\n",
      "11: Electrical Engineering\n",
      "12: HR\n",
      "13: Hadoop\n",
      "14: Health and fitness\n",
      "15: Java Developer\n",
      "16: Mechanical Engineer\n",
      "17: Network Security Engineer\n",
      "18: Operations Manager\n",
      "19: PMO\n",
      "20: Python Developer\n",
      "21: SAP Developer\n",
      "22: Sales\n",
      "23: Testing\n",
      "24: Web Designing\n",
      "25: Web Developer\n"
     ]
    }
   ],
   "source": [
    "for i, label in enumerate(le.classes_):\n",
    "    print(f\"{i}: {label}\")"
   ]
  },
  {
   "cell_type": "code",
   "execution_count": 164,
   "id": "0c11c10f",
   "metadata": {},
   "outputs": [
    {
     "name": "stdout",
     "output_type": "stream",
     "text": [
      "0.9\n",
      "0.9\n",
      "0.9194217687074829\n",
      "0.8996562960848675\n"
     ]
    },
    {
     "data": {
      "text/plain": [
       "['models/rf.pkl']"
      ]
     },
     "execution_count": 164,
     "metadata": {},
     "output_type": "execute_result"
    }
   ],
   "source": [
    "rf = RandomForestClassifier(random_state=42)\n",
    "rf.fit(X_train, y_train)\n",
    "rf_pred = rf.predict(X_test)\n",
    "\n",
    "print(accuracy_score(y_test, rf_pred))\n",
    "print(recall_score(y_test, rf_pred, average='weighted'))\n",
    "print(precision_score(y_test, rf_pred, average='weighted'))\n",
    "print(f1_score(y_test, rf_pred, average='weighted'))\n",
    "\n",
    "import joblib\n",
    "joblib.dump(rf, 'models/rf.pkl')"
   ]
  },
  {
   "cell_type": "code",
   "execution_count": 173,
   "metadata": {},
   "outputs": [
    {
     "name": "stdout",
     "output_type": "stream",
     "text": [
      "Predicted Category: HR\n"
     ]
    }
   ],
   "source": [
    "resume = input(\"Enter your text: \")\n",
    "\n",
    "preprocess_text(resume)\n",
    "\n",
    "vectorized = tf_idf.transform([resume])\n",
    "\n",
    "prediction = rf.predict(vectorized)\n",
    "predicted_category = le.inverse_transform([prediction[0]])[0]\n",
    "print(f\"Predicted Category: {predicted_category}\")\n"
   ]
  }
 ],
 "metadata": {
  "kernelspec": {
   "display_name": "Python 3",
   "language": "python",
   "name": "python3"
  },
  "language_info": {
   "codemirror_mode": {
    "name": "ipython",
    "version": 3
   },
   "file_extension": ".py",
   "mimetype": "text/x-python",
   "name": "python",
   "nbconvert_exporter": "python",
   "pygments_lexer": "ipython3",
   "version": "3.13.2"
  }
 },
 "nbformat": 4,
 "nbformat_minor": 5
}
